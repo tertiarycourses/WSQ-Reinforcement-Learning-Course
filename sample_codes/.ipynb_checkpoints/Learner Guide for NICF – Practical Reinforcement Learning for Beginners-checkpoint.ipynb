{
 "cells": [
  {
   "cell_type": "markdown",
   "metadata": {},
   "source": [
    "# Assessment Guide for NICF – Practical Reinforcement Learning for Beginners"
   ]
  },
  {
   "cell_type": "markdown",
   "metadata": {},
   "source": [
    "## Part 1: Q-Learning"
   ]
  },
  {
   "cell_type": "code",
   "execution_count": null,
   "metadata": {},
   "outputs": [],
   "source": [
    "import numpy as np\n",
    "import gym\n",
    "import time\n",
    "\n",
    "lr = 0.33\n",
    "gamma = 0.8\n",
    "epsilon = 0.1\n",
    "episodes = 10000\n",
    "\n",
    "env = gym.make('FrozenLake-v0')\n",
    "#env = gym.make(\"FrozenLake8x8-v0\")"
   ]
  },
  {
   "cell_type": "code",
   "execution_count": null,
   "metadata": {},
   "outputs": [],
   "source": [
    "N_STATES = env.observation_space.n\n",
    "print(N_STATES)\n",
    "print(\"Action space:\", env.action_space)"
   ]
  },
  {
   "cell_type": "code",
   "execution_count": null,
   "metadata": {},
   "outputs": [],
   "source": [
    "## Initialize Q Table\n",
    "\n",
    "Q = np.zeros((env.observation_space.n, env.action_space.n))\n",
    "print(Q)"
   ]
  },
  {
   "cell_type": "code",
   "execution_count": null,
   "metadata": {},
   "outputs": [],
   "source": [
    "## Q-Learning\n",
    "\n",
    "for i in range(episodes):\n",
    "    print(\"Episode {}/{}\".format(i + 1, episodes))\n",
    "    s = env.reset()\n",
    "    done = False\n",
    "    while not done:\n",
    "        if np.random.random() < epsilon:\n",
    "            a = env.action_space.sample()\n",
    "        else:\n",
    "            a = np.argmax(Q[s,:])\n",
    "        s_, r, done, _ = env.step(a)\n",
    "        Q[s,a] += lr*(r+gamma*np.max(Q[s_,:]) - Q[s,a])\n",
    "        s = s_"
   ]
  },
  {
   "cell_type": "code",
   "execution_count": null,
   "metadata": {},
   "outputs": [],
   "source": [
    "# Print Final Q Table\n",
    "print(Q)"
   ]
  },
  {
   "cell_type": "code",
   "execution_count": null,
   "metadata": {},
   "outputs": [],
   "source": [
    "## Compute the # of Steps and Total Rewards\n",
    "\n",
    "s = env.reset()\n",
    "done = False\n",
    "step_count = 0\n",
    "total_reward = 0\n",
    "\n",
    "while not done:\n",
    "    env.render()\n",
    "    a = np.argmax(Q[s,:])\n",
    "    s_, r, done, _ = env.step(a)\n",
    "    s = s_\n",
    "    step_count += 1\n",
    "    total_reward += r\n",
    "    time.sleep(0.1)"
   ]
  },
  {
   "cell_type": "code",
   "execution_count": null,
   "metadata": {},
   "outputs": [],
   "source": [
    "print(\"Total steps: \",step_count)\n",
    "print(\"Total rewards: \",total_reward)"
   ]
  },
  {
   "cell_type": "code",
   "execution_count": null,
   "metadata": {},
   "outputs": [],
   "source": [
    "## Compute Optimal Policy and Value Function\n",
    "\n",
    "policy = {}\n",
    "V = np.zeros(N_STATES)\n",
    "for S in range(N_STATES):\n",
    "    policy[S] = np.argmax(Q[S,:])\n",
    "    V[S] = np.max(Q[S,:])\n",
    "print('Optimal policy :', policy)\n",
    "print('Optimal value function: ', V)"
   ]
  },
  {
   "cell_type": "markdown",
   "metadata": {},
   "source": [
    "## Part 2: Q-Learning with Epilson Decay"
   ]
  },
  {
   "cell_type": "code",
   "execution_count": null,
   "metadata": {},
   "outputs": [],
   "source": [
    "import numpy as np\n",
    "import gym\n",
    "import time\n",
    "\n",
    "lr = 0.33\n",
    "lrMin = 0.001\n",
    "lrDecay = 0.9999\n",
    "gamma = 0.8\n",
    "epsilon = 1.0\n",
    "epsilonMin = 0.001\n",
    "epsilonDecay = 0.97\n",
    "episodes = 10000\n",
    "\n",
    "env = gym.make('FrozenLake-v0')\n",
    "#env = gym.make(\"FrozenLake8x8-v0\")"
   ]
  },
  {
   "cell_type": "code",
   "execution_count": null,
   "metadata": {},
   "outputs": [],
   "source": [
    "## Initialize Q Table\n",
    "\n",
    "Q = np.zeros((env.observation_space.n, env.action_space.n))\n",
    "print(Q)"
   ]
  },
  {
   "cell_type": "code",
   "execution_count": null,
   "metadata": {},
   "outputs": [],
   "source": [
    "## Q-Learning\n",
    "\n",
    "for i in range(episodes):\n",
    "    print(\"Episode {}/{}\".format(i + 1, episodes))\n",
    "    s = env.reset()\n",
    "    done = False\n",
    "\n",
    "    while not done:\n",
    "        \n",
    "        if np.random.random() < epsilon:\n",
    "            a = env.action_space.sample()\n",
    "        else:\n",
    "            a = np.argmax(Q[s,:])\n",
    "        \n",
    "        s_, r, done, _ = env.step(a)\n",
    "        Q[s,a] += lr*(r+gamma*np.max(Q[s_,:]) - Q[s,a])\n",
    "        s = s_\n",
    "        \n",
    "        if lr > lrMin:\n",
    "            lr *= lrDecay\n",
    "\n",
    "        if not r==0 and epsilon > epsilonMin:\n",
    "            epsilon *= epsilonDecay"
   ]
  },
  {
   "cell_type": "code",
   "execution_count": null,
   "metadata": {},
   "outputs": [],
   "source": [
    "### Print Final Q Table\n",
    "print(Q)"
   ]
  },
  {
   "cell_type": "code",
   "execution_count": null,
   "metadata": {},
   "outputs": [],
   "source": [
    "## Compute the # of Steps and Total Rewards\n",
    "\n",
    "s = env.reset()\n",
    "done = False\n",
    "step_count = 0\n",
    "total_reward = 0\n",
    "\n",
    "while not done:\n",
    "    env.render()\n",
    "    a = np.argmax(Q[s,:])\n",
    "    s_, r, done, _ = env.step(a)\n",
    "    s = s_\n",
    "    step_count += 1\n",
    "    total_reward += r\n",
    "    time.sleep(0.1)\n",
    "\n"
   ]
  },
  {
   "cell_type": "code",
   "execution_count": null,
   "metadata": {},
   "outputs": [],
   "source": [
    "print(\"Total steps: \",step_count)\n",
    "print(\"Total rewards: \",total_reward)"
   ]
  },
  {
   "cell_type": "code",
   "execution_count": null,
   "metadata": {},
   "outputs": [],
   "source": [
    "## Compute Optimal Policy and Value Function\n",
    "\n",
    "policy = {}\n",
    "V = np.zeros(N_STATES)\n",
    "for S in range(N_STATES):\n",
    "    policy[S] = np.argmax(Q[S,:])\n",
    "    V[S] = np.max(Q[S,:])\n",
    "print('Optimal policy :', policy)\n",
    "print('Optimal value function: ', V)"
   ]
  },
  {
   "cell_type": "markdown",
   "metadata": {},
   "source": [
    "## Part 3: On Policy Q-Learning with Epsilon Decay"
   ]
  },
  {
   "cell_type": "code",
   "execution_count": null,
   "metadata": {},
   "outputs": [],
   "source": [
    "import numpy as np\n",
    "import gym\n",
    "from IPython.display import clear_output\n",
    "import time\n",
    "\n",
    "lr = 0.33\n",
    "lrMin = 0.001\n",
    "lrDecay = 0.9999\n",
    "gamma = 1.0\n",
    "epsilon = 1.0\n",
    "epsilonMin = 0.001\n",
    "epsilonDecay = 0.97\n",
    "episodes = 2000\n",
    "\n",
    "env = gym.make('FrozenLake-v0')\n",
    "#env = gym.make(\"FrozenLake8x8-v0\")"
   ]
  },
  {
   "cell_type": "code",
   "execution_count": null,
   "metadata": {},
   "outputs": [],
   "source": [
    "## Initialize Q Table\n",
    "\n",
    "Q = np.zeros((env.observation_space.n, env.action_space.n))\n",
    "print(Q)"
   ]
  },
  {
   "cell_type": "code",
   "execution_count": null,
   "metadata": {},
   "outputs": [],
   "source": [
    "## Action Policy\n",
    "\n",
    "def choose_action(s, Q):\n",
    "    if np.random.random() < epsilon:\n",
    "        a = np.random.randint(0, env.action_space.n)\n",
    "    else:\n",
    "        a = np.argmax(Q[s,:])\n",
    "    return a"
   ]
  },
  {
   "cell_type": "code",
   "execution_count": null,
   "metadata": {},
   "outputs": [],
   "source": [
    "## Q-Learning\n",
    "\n",
    "for i in range(episodes):\n",
    "    print(\"Episode {}/{}\".format(i + 1, episodes))\n",
    "    s = env.reset()\n",
    "    done = False\n",
    "    \n",
    "    a = choose_action(s, Q)\n",
    "    while not done:\n",
    "        s_, r, done, _ = env.step(a)\n",
    "        a_ = choose_action(s_, Q)\n",
    "        Q[s,a] = Q[s,a] + lr*(r+gamma*(Q[s_,a_]) - Q[s,a])\n",
    "        s = s_\n",
    "        a = a_\n",
    "        \n",
    "        if lr > lrMin:\n",
    "            lr *= lrDecay\n",
    "\n",
    "        if not r==0 and epsilon > epsilonMin:\n",
    "            epsilon *= epsilonDecay\n",
    "\n",
    "print(Q)"
   ]
  },
  {
   "cell_type": "code",
   "execution_count": null,
   "metadata": {},
   "outputs": [],
   "source": [
    "## Compute the # of Steps and Total Rewards\n",
    "\n",
    "s = env.reset()\n",
    "done = False\n",
    "step_count = 0\n",
    "total_reward = 0\n",
    "\n",
    "while not done:\n",
    "    env.render()\n",
    "    a = np.argmax(Q[s,:])\n",
    "    s_, r, done, _ = env.step(a)\n",
    "    s = s_\n",
    "    step_count += 1\n",
    "    total_reward += r\n",
    "    time.sleep(0.1)\n",
    "\n",
    "print(\"Total steps: \",step_count)\n",
    "print(\"Total rewards: \",total_reward)"
   ]
  },
  {
   "cell_type": "code",
   "execution_count": null,
   "metadata": {},
   "outputs": [],
   "source": [
    "## Compute Optimal Policy and Value Function\n",
    "\n",
    "policy = {}\n",
    "V = np.zeros(N_STATES)\n",
    "for S in range(N_STATES):\n",
    "    policy[S] = np.argmax(Q[S,:])\n",
    "    V[S] = np.max(Q[S,:])\n",
    "print('Optimal policy :', policy)\n",
    "print('Optimal value function: ', V)"
   ]
  },
  {
   "cell_type": "markdown",
   "metadata": {},
   "source": [
    "## Part 4: Deep Q Network"
   ]
  },
  {
   "cell_type": "code",
   "execution_count": null,
   "metadata": {},
   "outputs": [],
   "source": [
    "import os\n",
    "import gym\n",
    "import numpy as np\n",
    "import matplotlib.pyplot as plt\n",
    "from tensorflow.keras.models import Sequential;\n",
    "from tensorflow.keras.layers import Dense, Activation;\n",
    "from tensorflow.keras import initializers;\n",
    "from tensorflow.keras.optimizers import Adam, SGD;\n",
    "from tensorflow.keras import backend as K\n",
    "from tqdm import tqdm, trange\n",
    "import pandas as pd\n",
    "%matplotlib inline"
   ]
  },
  {
   "cell_type": "code",
   "execution_count": null,
   "metadata": {},
   "outputs": [],
   "source": [
    "def loss(Qtarget, Q):\n",
    "    return K.sum(K.square(Qtarget - Q))"
   ]
  },
  {
   "cell_type": "code",
   "execution_count": null,
   "metadata": {},
   "outputs": [],
   "source": [
    "def frozen_lake(env, e, learning_rate, gamma, episodes, steps):\n",
    "    # Initialize history memory\n",
    "    step_list = []\n",
    "    reward_list = []\n",
    "    loss_list = []\n",
    "    e_list = []\n",
    "\n",
    "    def create_model():\n",
    "        initializer = initializers.random_uniform(0, 0.1, seed=1)\n",
    "        model = Sequential([Dense(4, input_dim=env.observation_space.n, \n",
    "                        kernel_initializer=initializer,\n",
    "                        use_bias=False\n",
    "                                 )])\n",
    "        model.compile(loss=loss, optimizer=Adam(lr=learning_rate))\n",
    "        return model\n",
    "\n",
    "    model = create_model()\n",
    "\n",
    "    # Transform into one-hot vector\n",
    "    def OH(l, x):\n",
    "        return np.identity(l)[x].reshape(1,l)\n",
    "\n",
    "    for i in trange(episodes):\n",
    "        # Initialize\n",
    "        state = env.reset()\n",
    "        reward_all = 0 #Reward counter\n",
    "        done = False\n",
    "        s = 0 #Step counter\n",
    "        l = 0 #Loss\n",
    "\n",
    "        for s in range(steps):\n",
    "            # Choose action randomly or through agent model\n",
    "            if np.random.rand(1) < e:\n",
    "                Q = model.predict(OH(16, state), batch_size=1)\n",
    "                action = env.action_space.sample()\n",
    "            else:\n",
    "                Q = model.predict(OH(16, state), batch_size=1)\n",
    "                action = np.argmax(Q)\n",
    "\n",
    "            # Take action and obtain new state and reward    \n",
    "            new_state, reward, done, _ = env.step(action)\n",
    "\n",
    "            # Adjust reward if done without reaching end\n",
    "            if done and reward == 0.0: reward = -1\n",
    "\n",
    "            # Find max-Q for future state\n",
    "            Q1 = model.predict(OH(16, new_state), batch_size=1)\n",
    "            maxQ1 = np.max(Q1)\n",
    "            \n",
    "            # Bellman Equation\n",
    "            # Update target for training by adding reward for action and discounted max next state Q-value\n",
    "            targetQ = Q\n",
    "            targetQ[0, action] = reward + (gamma * maxQ1)\n",
    "\n",
    "            # Train on target Q value\n",
    "            history = model.fit(OH(16, state), targetQ, verbose=False, batch_size=1)\n",
    "\n",
    "            # Update history and set current state\n",
    "            l += history.history['loss'][0]\n",
    "            reward_all += reward\n",
    "            state = new_state\n",
    "\n",
    "            if done == True:\n",
    "                # Reduce e if current episode is successful\n",
    "                if reward > 0: \n",
    "                    e = 1./((i/50) + 10)\n",
    "                break\n",
    "\n",
    "        # Update history\n",
    "        step_list.append(s)\n",
    "        reward_list.append(reward_all)\n",
    "        loss_list.append(l/s)\n",
    "        e_list.append(e)\n",
    "    print('\\nSuccessful episodes: {}'.format(np.sum(np.array(reward_list)>0.0)/episodes))\n",
    "\n",
    "    window = int(episodes/10)\n",
    "\n",
    "    plt.figure(figsize=[9,16])\n",
    "    plt.subplot(411)\n",
    "    plt.plot(pd.Series(step_list).rolling(window).mean())\n",
    "    plt.title('Step Moving Average ({}-episode window)'.format(window))\n",
    "    plt.ylabel('Moves')\n",
    "    plt.xlabel('Episode')\n",
    "\n",
    "    plt.subplot(412)\n",
    "    plt.plot(pd.Series(reward_list).rolling(window).mean())\n",
    "    plt.title('Reward Moving Average ({}-episode window)'.format(window))\n",
    "    plt.ylabel('Reward')\n",
    "    plt.xlabel('Episode')\n",
    "\n",
    "    plt.subplot(413)\n",
    "    plt.plot(pd.Series(loss_list).rolling(window).mean())\n",
    "    plt.title('Loss Moving Average ({}-episode window)'.format(window))\n",
    "    plt.ylabel('Loss')\n",
    "    plt.xlabel('Episode')\n",
    "\n",
    "    plt.subplot(414)\n",
    "    plt.plot(e_list)\n",
    "    plt.title('Random Action Parameter')\n",
    "    plt.ylabel('Chance Random Action')\n",
    "    plt.xlabel('Episode')\n",
    "\n",
    "    plt.tight_layout(pad=2)\n",
    "    plt.show()"
   ]
  },
  {
   "cell_type": "code",
   "execution_count": null,
   "metadata": {},
   "outputs": [],
   "source": [
    "#env = gym.make('FrozenLakeNotSlippery-v0')\n",
    "env = gym.make('FrozenLake-v0')\n",
    "# Chance of random action\n",
    "e = 0.1\n",
    "learning_rate = 0.01\n",
    "# Discount Rate\n",
    "gamma = 0.99\n",
    "# Training Episodes\n",
    "episodes = 500\n",
    "# Max Steps per episode\n",
    "steps = 50\n",
    "\n",
    "frozen_lake(env, e, learning_rate, gamma, episodes, steps)"
   ]
  },
  {
   "cell_type": "code",
   "execution_count": null,
   "metadata": {},
   "outputs": [],
   "source": []
  }
 ],
 "metadata": {
  "kernelspec": {
   "display_name": "Python 3",
   "language": "python",
   "name": "python3"
  },
  "language_info": {
   "codemirror_mode": {
    "name": "ipython",
    "version": 3
   },
   "file_extension": ".py",
   "mimetype": "text/x-python",
   "name": "python",
   "nbconvert_exporter": "python",
   "pygments_lexer": "ipython3",
   "version": "3.8.5"
  }
 },
 "nbformat": 4,
 "nbformat_minor": 2
}
