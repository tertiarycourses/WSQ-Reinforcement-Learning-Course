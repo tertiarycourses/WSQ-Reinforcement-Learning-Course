{
 "cells": [
  {
   "cell_type": "markdown",
   "metadata": {},
   "source": [
    "# Topic 2 OpenAI Gym"
   ]
  },
  {
   "cell_type": "markdown",
   "metadata": {},
   "source": [
    "## Activity: Try Out OpenAI Gym"
   ]
  },
  {
   "cell_type": "code",
   "execution_count": 1,
   "metadata": {},
   "outputs": [
    {
     "name": "stdout",
     "output_type": "stream",
     "text": [
      "Step:0 Reward: 1.0\n",
      "Step:1 Reward: 1.0\n",
      "Step:2 Reward: 1.0\n",
      "Step:3 Reward: 1.0\n",
      "Step:4 Reward: 1.0\n",
      "Step:5 Reward: 1.0\n",
      "Step:6 Reward: 1.0\n",
      "Step:7 Reward: 1.0\n",
      "Step:8 Reward: 1.0\n",
      "Step:9 Reward: 1.0\n",
      "Step:10 Reward: 1.0\n",
      "Step:11 Reward: 1.0\n",
      "Step:12 Reward: 1.0\n",
      "Step:13 Reward: 1.0\n",
      "Step:14 Reward: 1.0\n",
      "Step:15 Reward: 1.0\n",
      "Step:16 Reward: 1.0\n",
      "Step:17 Reward: 1.0\n",
      "Step:18 Reward: 1.0\n",
      "Step:19 Reward: 1.0\n",
      "Step:20 Reward: 1.0\n",
      "Step:21 Reward: 1.0\n",
      "Step:22 Reward: 1.0\n",
      "Step:23 Reward: 1.0\n",
      "Step:24 Reward: 1.0\n",
      "Step:25 Reward: 1.0\n",
      "Step:26 Reward: 1.0\n",
      "Step:27 Reward: 1.0\n",
      "Step:28 Reward: 1.0\n",
      "Step:29 Reward: 1.0\n",
      "Step:30 Reward: 1.0\n",
      "Step:31 Reward: 1.0\n",
      "Step:32 Reward: 1.0\n",
      "Step:33 Reward: 1.0\n",
      "Step:34 Reward: 1.0\n",
      "Step:35 Reward: 1.0\n",
      "Step:36 Reward: 1.0\n",
      "Step:37 Reward: 1.0\n",
      "Step:38 Reward: 1.0\n",
      "Step:39 Reward: 1.0\n",
      "Step:40 Reward: 1.0\n",
      "Step:41 Reward: 1.0\n",
      "Step:42 Reward: 1.0\n",
      "Step:43 Reward: 1.0\n",
      "Step:44 Reward: 1.0\n",
      "Step:45 Reward: 1.0\n",
      "Step:46 Reward: 1.0\n",
      "Step:47 Reward: 1.0\n",
      "Step:48 Reward: 1.0\n",
      "Step:49 Reward: 1.0\n",
      "Step:50 Reward: 1.0\n",
      "Step:51 Reward: 1.0\n",
      "Step:52 Reward: 1.0\n",
      "Step:53 Reward: 1.0\n",
      "Step:54 Reward: 1.0\n",
      "Step:55 Reward: 1.0\n",
      "Step:56 Reward: 1.0\n",
      "Step:57 Reward: 1.0\n",
      "Step:58 Reward: 1.0\n",
      "Step:59 Reward: 1.0\n",
      "Step:60 Reward: 1.0\n",
      "Step:61 Reward: 1.0\n",
      "Step:62 Reward: 1.0\n",
      "Step:63 Reward: 1.0\n",
      "Step:64 Reward: 1.0\n",
      "Step:65 Reward: 1.0\n",
      "Step:66 Reward: 1.0\n",
      "Step:67 Reward: 1.0\n",
      "Step:68 Reward: 1.0\n",
      "Step:69 Reward: 1.0\n",
      "Step:70 Reward: 1.0\n",
      "Step:71 Reward: 1.0\n",
      "Step:72 Reward: 1.0\n",
      "Step:73 Reward: 1.0\n",
      "Step:74 Reward: 1.0\n",
      "Step:75 Reward: 1.0\n",
      "Step:76 Reward: 1.0\n",
      "Step:77 Reward: 1.0\n",
      "Step:78 Reward: 1.0\n",
      "Step:79 Reward: 1.0\n",
      "Step:80 Reward: 1.0\n",
      "Step:81 Reward: 1.0\n",
      "Step:82 Reward: 1.0\n",
      "Step:83 Reward: 1.0\n",
      "Step:84 Reward: 1.0\n",
      "Step:85 Reward: 1.0\n",
      "Step:86 Reward: 1.0\n",
      "Step:87 Reward: 1.0\n",
      "Step:88 Reward: 1.0\n",
      "Step:89 Reward: 1.0\n",
      "Step:90 Reward: 1.0\n",
      "Step:91 Reward: 1.0\n",
      "Step:92 Reward: 1.0\n",
      "Step:93 Reward: 1.0\n",
      "Step:94 Reward: 1.0\n",
      "Step:95 Reward: 1.0\n",
      "Step:96 Reward: 1.0\n",
      "Step:97 Reward: 1.0\n",
      "Step:98 Reward: 1.0\n",
      "Step:99 Reward: 1.0\n"
     ]
    }
   ],
   "source": [
    "import gym\n",
    "\n",
    "env = gym.make('CartPole-v1')\n",
    "#env = gym.make('MountainCar-v0')\n",
    "#env = gym.make('AirRaid-ram-v0')\n",
    "#env = gym.make('FrozenLake-v0')\n",
    "#env = gym.make(\"Taxi-v3\").env\n",
    "\n",
    "env.reset()\n",
    "for i in range(100):\n",
    "  action = env.action_space.sample() # takes random actions\n",
    "  observation, reward, done, info = env.step(action) \n",
    "  env.render()\n",
    "  print(f\"Step:{i} Reward: {reward}\")\n",
    "  if done: env.reset()\n",
    "env.close()"
   ]
  },
  {
   "cell_type": "markdown",
   "metadata": {},
   "source": [
    "## Activity: Create Simple Agent and Action Policy"
   ]
  },
  {
   "cell_type": "code",
   "execution_count": null,
   "metadata": {},
   "outputs": [],
   "source": [
    "import gym\n",
    "import random\n",
    "\n",
    "env_name = \"CartPole-v1\"\n",
    "env = gym.make(env_name)\n",
    "print(\"Observation space:\", env.observation_space)\n",
    "print(\"Action space:\", env.action_space)"
   ]
  },
  {
   "cell_type": "code",
   "execution_count": null,
   "metadata": {},
   "outputs": [],
   "source": [
    "class Agent():\n",
    "    def __init__(self, env):\n",
    "        self.action_size = env.action_space.n\n",
    "        print(\"Action size:\", self.action_size)\n",
    "        \n",
    "    def get_action(self, state):\n",
    "        action = random.choice(range(self.action_size))\n",
    "        # action = 1\n",
    "        # pole_angle = state[2]\n",
    "        # action = 0 if pole_angle < 0 else 1\n",
    "        return action"
   ]
  },
  {
   "cell_type": "code",
   "execution_count": null,
   "metadata": {},
   "outputs": [],
   "source": [
    "agent = Agent(env)\n",
    "state = env.reset()\n",
    "\n",
    "for _ in range(1000):\n",
    "    action = agent.get_action(state)\n",
    "    state, reward, done, info = env.step(action)\n",
    "    env.render()\n",
    "    if done: env.reset()\n",
    "env.close()"
   ]
  },
  {
   "cell_type": "code",
   "execution_count": null,
   "metadata": {},
   "outputs": [],
   "source": []
  }
 ],
 "metadata": {
  "kernelspec": {
   "display_name": "Python 3",
   "language": "python",
   "name": "python3"
  },
  "language_info": {
   "codemirror_mode": {
    "name": "ipython",
    "version": 3
   },
   "file_extension": ".py",
   "mimetype": "text/x-python",
   "name": "python",
   "nbconvert_exporter": "python",
   "pygments_lexer": "ipython3",
   "version": "3.8.5"
  }
 },
 "nbformat": 4,
 "nbformat_minor": 2
}
