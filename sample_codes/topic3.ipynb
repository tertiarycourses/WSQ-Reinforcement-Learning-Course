{
 "cells": [
  {
   "cell_type": "markdown",
   "metadata": {},
   "source": [
    "# Topic 3 Value Based Q-Learning"
   ]
  },
  {
   "cell_type": "markdown",
   "metadata": {},
   "source": [
    "## Q-Learning"
   ]
  },
  {
   "cell_type": "code",
   "execution_count": null,
   "metadata": {},
   "outputs": [],
   "source": [
    "import numpy as np\n",
    "import gym\n",
    "import time\n",
    "\n",
    "lr = 0.1\n",
    "gamma = 0.8\n",
    "epsilon = 0.1\n",
    "episodes = 50000\n",
    "\n",
    "env = gym.make('Taxi-v3')"
   ]
  },
  {
   "cell_type": "code",
   "execution_count": null,
   "metadata": {},
   "outputs": [],
   "source": [
    "## Initialize Q Table\n",
    "Q = np.zeros((env.observation_space.n, env.action_space.n))\n",
    "print(Q)"
   ]
  },
  {
   "cell_type": "code",
   "execution_count": null,
   "metadata": {},
   "outputs": [],
   "source": [
    "## Before Q-learning\n",
    "\n",
    "s = env.reset()\n",
    "done = False\n",
    "step_count = 0\n",
    "total_reward = 0\n",
    "\n",
    "while not done:\n",
    "    env.render()\n",
    "    a = np.argmax(Q[s,:])\n",
    "    s_, r, done, _ = env.step(a)\n",
    "    s = s_\n",
    "    step_count += 1\n",
    "    total_reward += r\n",
    "    time.sleep(0.1)\n",
    "\n",
    "print(\"Total steps: \",step_count)\n",
    "print(\"Total rewards: \",total_reward)"
   ]
  },
  {
   "cell_type": "code",
   "execution_count": null,
   "metadata": {},
   "outputs": [],
   "source": [
    "## Q-Learning\n",
    "\n",
    "for i in range(episodes):\n",
    "    if i%2000 == 0: print(\"Episode {}/{}\".format(i + 1, episodes))\n",
    "    s = env.reset()\n",
    "    done = False\n",
    "\n",
    "    while not done:\n",
    "        if np.random.random() < epsilon:\n",
    "            a = env.action_space.sample()\n",
    "        else:\n",
    "            a = np.argmax(Q[s,:])\n",
    "        s_, r, done, _ = env.step(a)\n",
    "        Q[s,a] += lr*(r+gamma*np.max(Q[s_,:]) - Q[s,a])\n",
    "        s = s_"
   ]
  },
  {
   "cell_type": "code",
   "execution_count": null,
   "metadata": {},
   "outputs": [],
   "source": [
    "# Print Final Q Table\n",
    "print(Q)"
   ]
  },
  {
   "cell_type": "code",
   "execution_count": null,
   "metadata": {},
   "outputs": [],
   "source": [
    "## After Q-learning\n",
    "\n",
    "s = env.reset()\n",
    "done = False\n",
    "step_count = 0\n",
    "total_reward = 0\n",
    "\n",
    "while not done:\n",
    "    env.render()\n",
    "    a = np.argmax(Q[s,:])\n",
    "    s_, r, done, _ = env.step(a)\n",
    "    s = s_\n",
    "    step_count += 1\n",
    "    total_reward += r\n",
    "    time.sleep(0.1)\n",
    "\n",
    "print(\"Total steps: \",step_count)\n",
    "print(\"Total rewards: \",total_reward)"
   ]
  },
  {
   "cell_type": "markdown",
   "metadata": {},
   "source": [
    "### Activity: Q Learning on Frozen-Lake Environment "
   ]
  },
  {
   "cell_type": "markdown",
   "metadata": {},
   "source": [
    "### Create Env"
   ]
  },
  {
   "cell_type": "code",
   "execution_count": null,
   "metadata": {},
   "outputs": [],
   "source": [
    "import numpy as np\n",
    "import gym\n",
    "import time\n",
    "\n",
    "env = gym.make('FrozenLake-v1')"
   ]
  },
  {
   "cell_type": "code",
   "execution_count": null,
   "metadata": {},
   "outputs": [],
   "source": [
    "## Initialize Q Table\n",
    "Q = np.zeros((env.observation_space.n, env.action_space.n))\n",
    "print(Q)"
   ]
  },
  {
   "cell_type": "markdown",
   "metadata": {},
   "source": [
    "### Before Training"
   ]
  },
  {
   "cell_type": "code",
   "execution_count": null,
   "metadata": {},
   "outputs": [],
   "source": [
    "## Before Q-learning\n",
    "s = env.reset()\n",
    "done = False\n",
    "step_count = 0\n",
    "total_reward = 0\n",
    "\n",
    "while not done:\n",
    "    env.render()\n",
    "    a = np.argmax(Q[s,:])\n",
    "    s_, r, done, _ = env.step(a)\n",
    "    s = s_\n",
    "    step_count += 1\n",
    "    total_reward += r\n",
    "    time.sleep(0.1)\n",
    "\n",
    "print(\"Total steps: \",step_count)\n",
    "print(\"Total rewards: \",total_reward)"
   ]
  },
  {
   "cell_type": "markdown",
   "metadata": {},
   "source": [
    "### After Q Learning"
   ]
  },
  {
   "cell_type": "code",
   "execution_count": null,
   "metadata": {},
   "outputs": [],
   "source": [
    "## Q-Learning\n",
    "\n",
    "lr = 0.01\n",
    "gamma = 0.7\n",
    "epsilon = 0.1\n",
    "episodes = 50000\n",
    "\n",
    "for i in range(episodes):\n",
    "    if i%2000 == 0: print(\"Episode {}/{}\".format(i + 1, episodes))\n",
    "    s = env.reset()\n",
    "    done = False\n",
    "\n",
    "    while not done:\n",
    "        if np.random.random() < epsilon:\n",
    "            a = env.action_space.sample()\n",
    "        else:\n",
    "            a = np.argmax(Q[s,:])\n",
    "        s_, r, done, _ = env.step(a)\n",
    "        Q[s,a] += lr*(r+gamma*np.max(Q[s_,:]) - Q[s,a])\n",
    "        s = s_"
   ]
  },
  {
   "cell_type": "code",
   "execution_count": null,
   "metadata": {},
   "outputs": [],
   "source": [
    "# Print Final Q Table\n",
    "print(Q)"
   ]
  },
  {
   "cell_type": "code",
   "execution_count": null,
   "metadata": {},
   "outputs": [],
   "source": [
    "## After Q-learning\n",
    "\n",
    "s = env.reset()\n",
    "done = False\n",
    "step_count = 0\n",
    "total_reward = 0\n",
    "\n",
    "while not done:\n",
    "    env.render()\n",
    "    a = np.argmax(Q[s,:])\n",
    "    s_, r, done, _ = env.step(a)\n",
    "    s = s_\n",
    "    step_count += 1\n",
    "    total_reward += r\n",
    "    time.sleep(0.1)\n",
    "\n",
    "print(\"Total steps: \",step_count)\n",
    "print(\"Total rewards: \",total_reward)"
   ]
  },
  {
   "cell_type": "markdown",
   "metadata": {},
   "source": [
    "## SARSA"
   ]
  },
  {
   "cell_type": "code",
   "execution_count": null,
   "metadata": {},
   "outputs": [],
   "source": [
    "import numpy as np\n",
    "import gym\n",
    "import time\n",
    "\n",
    "#env = gym.make('FrozenLake-v0')\n",
    "env = gym.make(\"Taxi-v3\").env"
   ]
  },
  {
   "cell_type": "code",
   "execution_count": null,
   "metadata": {},
   "outputs": [],
   "source": [
    "## Initialize Q Table\n",
    "Q = np.zeros((env.observation_space.n, env.action_space.n))\n",
    "print(Q)"
   ]
  },
  {
   "cell_type": "code",
   "execution_count": null,
   "metadata": {},
   "outputs": [],
   "source": [
    "## Before SARSA Learning\n",
    "\n",
    "s = env.reset()\n",
    "done = False\n",
    "step_count = 0\n",
    "total_reward = 0\n",
    "\n",
    "while not done:\n",
    "    env.render()\n",
    "    a = np.argmax(Q[s,:])\n",
    "    s_, r, done, _ = env.step(a)\n",
    "    s = s_\n",
    "    step_count += 1\n",
    "    total_reward += r\n",
    "    time.sleep(0.1)\n",
    "    if step_count > 200: break\n",
    "\n",
    "print(\"Total steps: \",step_count)\n",
    "print(\"Total rewards: \",total_reward)"
   ]
  },
  {
   "cell_type": "code",
   "execution_count": null,
   "metadata": {},
   "outputs": [],
   "source": [
    "## Action Policy\n",
    "\n",
    "def choose_action(s, Q):\n",
    "    if np.random.random() < epsilon:\n",
    "        a = np.random.randint(0, env.action_space.n)\n",
    "    else:\n",
    "        a = np.argmax(Q[s,:])\n",
    "    return a"
   ]
  },
  {
   "cell_type": "code",
   "execution_count": null,
   "metadata": {},
   "outputs": [],
   "source": [
    "## SARSA\n",
    "\n",
    "lr = 0.05\n",
    "gamma = 0.9\n",
    "epsilon = 0.1\n",
    "episodes = 50000\n",
    "\n",
    "for i in range(episodes):\n",
    "    if i%2000 == 0: print(\"Episode {}/{}\".format(i + 1, episodes))\n",
    "    s = env.reset()\n",
    "    done = False\n",
    "        \n",
    "    a = choose_action(s, Q)\n",
    "    while not done:\n",
    "        s_, r, done, _ = env.step(a)\n",
    "        a_ = choose_action(s_, Q)\n",
    "        Q[s,a] = Q[s,a] + lr*(r+gamma*(Q[s_,a_]) - Q[s,a])\n",
    "        s = s_\n",
    "        a = a_"
   ]
  },
  {
   "cell_type": "code",
   "execution_count": null,
   "metadata": {},
   "outputs": [],
   "source": [
    "# Print Final Q Table\n",
    "print(Q)"
   ]
  },
  {
   "cell_type": "code",
   "execution_count": null,
   "metadata": {},
   "outputs": [],
   "source": [
    "## After SARSA Learning\n",
    "\n",
    "s = env.reset()\n",
    "done = False\n",
    "step_count = 0\n",
    "total_reward = 0\n",
    "\n",
    "while not done:\n",
    "    env.render()\n",
    "    a = np.argmax(Q[s,:])\n",
    "    s_, r, done, _ = env.step(a)\n",
    "    s = s_\n",
    "    step_count += 1\n",
    "    total_reward += r\n",
    "    time.sleep(0.1)\n",
    "    if step_count > 200: break\n",
    "\n",
    "print(\"Total steps: \",step_count)\n",
    "print(\"Total rewards: \",total_reward)"
   ]
  },
  {
   "cell_type": "code",
   "execution_count": null,
   "metadata": {},
   "outputs": [],
   "source": [
    "print(\"Total steps: \",step_count)\n",
    "print(\"Total rewards: \",total_reward)"
   ]
  },
  {
   "cell_type": "markdown",
   "metadata": {},
   "source": [
    "### Activity: SARSA on Frozen-Lake Environment "
   ]
  },
  {
   "cell_type": "code",
   "execution_count": null,
   "metadata": {},
   "outputs": [],
   "source": [
    "import numpy as np\n",
    "import gym\n",
    "import time\n",
    "\n",
    "env = gym.make('FrozenLake-v1')"
   ]
  },
  {
   "cell_type": "code",
   "execution_count": null,
   "metadata": {},
   "outputs": [],
   "source": [
    "## Initialize Q Table\n",
    "Q = np.zeros((env.observation_space.n, env.action_space.n))\n",
    "print(Q)"
   ]
  },
  {
   "cell_type": "code",
   "execution_count": null,
   "metadata": {},
   "outputs": [],
   "source": [
    "## Before SARSA Learning\n",
    "\n",
    "s = env.reset()\n",
    "done = False\n",
    "step_count = 0\n",
    "total_reward = 0\n",
    "\n",
    "while not done:\n",
    "    env.render()\n",
    "    a = np.argmax(Q[s,:])\n",
    "    s_, r, done, _ = env.step(a)\n",
    "    s = s_\n",
    "    step_count += 1\n",
    "    total_reward += r\n",
    "    time.sleep(0.1)\n",
    "    if step_count > 200: break\n",
    "\n",
    "print(\"Total steps: \",step_count)\n",
    "print(\"Total rewards: \",total_reward)"
   ]
  },
  {
   "cell_type": "code",
   "execution_count": null,
   "metadata": {},
   "outputs": [],
   "source": [
    "## Action Policy\n",
    "\n",
    "def choose_action(s, Q):\n",
    "    if np.random.random() < epsilon:\n",
    "        a = np.random.randint(0, env.action_space.n)\n",
    "    else:\n",
    "        a = np.argmax(Q[s,:])\n",
    "    return a"
   ]
  },
  {
   "cell_type": "code",
   "execution_count": null,
   "metadata": {},
   "outputs": [],
   "source": [
    "## SARSA\n",
    "\n",
    "lr = 0.05\n",
    "gamma = 0.8\n",
    "epsilon = 0.2\n",
    "episodes = 50000\n",
    "\n",
    "for i in range(episodes):\n",
    "    if i%2000 == 0: print(\"Episode {}/{}\".format(i + 1, episodes))\n",
    "    s = env.reset()\n",
    "    done = False\n",
    "        \n",
    "    a = choose_action(s, Q)\n",
    "    while not done:\n",
    "        s_, r, done, _ = env.step(a)\n",
    "        a_ = choose_action(s_, Q)\n",
    "        Q[s,a] = Q[s,a] + lr*(r+gamma*(Q[s_,a_]) - Q[s,a])\n",
    "        s = s_\n",
    "        a = a_"
   ]
  },
  {
   "cell_type": "code",
   "execution_count": null,
   "metadata": {},
   "outputs": [],
   "source": [
    "# Print Final Q Table\n",
    "print(Q)"
   ]
  },
  {
   "cell_type": "code",
   "execution_count": null,
   "metadata": {},
   "outputs": [],
   "source": [
    "## Before SARSA Learning\n",
    "\n",
    "s = env.reset()\n",
    "done = False\n",
    "step_count = 0\n",
    "total_reward = 0\n",
    "\n",
    "while not done:\n",
    "    env.render()\n",
    "    a = np.argmax(Q[s,:])\n",
    "    s_, r, done, _ = env.step(a)\n",
    "    s = s_\n",
    "    step_count += 1\n",
    "    total_reward += r\n",
    "    time.sleep(0.1)\n",
    "    if step_count > 200: break\n",
    "\n",
    "print(\"Total steps: \",step_count)\n",
    "print(\"Total rewards: \",total_reward)\n",
    "\n"
   ]
  },
  {
   "cell_type": "markdown",
   "metadata": {},
   "source": [
    "## DQN"
   ]
  },
  {
   "cell_type": "code",
   "execution_count": null,
   "metadata": {},
   "outputs": [],
   "source": [
    "import gym\n",
    "from stable_baselines3 import DQN\n",
    "\n",
    "env = gym.make(\"CartPole-v0\")\n",
    "\n",
    "model = DQN(\"MlpPolicy\", env, verbose=0)\n",
    "model.learn(total_timesteps=23000)\n",
    "\n",
    "model.save(\"dqn_cartpole\")\n",
    "del model # remove to demonstrate saving and loading\n",
    "model = DQN.load(\"dqn_cartpole\")"
   ]
  },
  {
   "cell_type": "code",
   "execution_count": null,
   "metadata": {},
   "outputs": [],
   "source": [
    "episodes = 5\n",
    "for episode in range(1, episodes+1):\n",
    "    obs = env.reset()\n",
    "    done = False\n",
    "    score = 0 \n",
    "    \n",
    "    while not done:\n",
    "        env.render()\n",
    "        action, _state = model.predict(obs,deterministic=True)\n",
    "        obs, reward, done, info = env.step(action)\n",
    "        score+=reward\n",
    "    print(f'Episode:{episode} Score:{score}')\n",
    "\n",
    "env.close()"
   ]
  },
  {
   "cell_type": "markdown",
   "metadata": {},
   "source": [
    "### Activity: DQN on Lunar Lander Environment"
   ]
  },
  {
   "cell_type": "code",
   "execution_count": null,
   "metadata": {},
   "outputs": [],
   "source": [
    "import gym\n",
    "import numpy as np\n",
    "\n",
    "from stable_baselines3 import DQN\n",
    "from stable_baselines3.common.evaluation import evaluate_policy"
   ]
  },
  {
   "cell_type": "code",
   "execution_count": null,
   "metadata": {},
   "outputs": [],
   "source": [
    "env = gym.make('LunarLander-v2')"
   ]
  },
  {
   "cell_type": "markdown",
   "metadata": {},
   "source": [
    "#### Before Training"
   ]
  },
  {
   "cell_type": "code",
   "execution_count": null,
   "metadata": {},
   "outputs": [],
   "source": [
    "episodes = 10\n",
    "for episode in range(1, episodes+1):\n",
    "    state = env.reset()\n",
    "    done = False\n",
    "    score = 0 \n",
    "    \n",
    "    while not done:\n",
    "        env.render()\n",
    "        action = env.action_space.sample()\n",
    "        n_state, reward, done, info = env.step(action)\n",
    "        score+=reward\n",
    "    print('Episode:{} Score:{}'.format(episode, score))\n",
    "env.close()"
   ]
  },
  {
   "cell_type": "markdown",
   "metadata": {},
   "source": [
    "#### After Training"
   ]
  },
  {
   "cell_type": "code",
   "execution_count": null,
   "metadata": {},
   "outputs": [],
   "source": [
    "model = DQN('MlpPolicy', env, verbose=1, exploration_final_eps=0.1, target_update_interval=250)"
   ]
  },
  {
   "cell_type": "code",
   "execution_count": null,
   "metadata": {},
   "outputs": [],
   "source": [
    "# Separate env for evaluation\n",
    "eval_env = gym.make('LunarLander-v2')\n",
    "\n",
    "# Random Agent, before training\n",
    "mean_reward, std_reward = evaluate_policy(model, eval_env, n_eval_episodes=10, deterministic=True)\n",
    "\n",
    "print(f\"mean_reward={mean_reward:.2f} +/- {std_reward}\")"
   ]
  },
  {
   "cell_type": "code",
   "execution_count": null,
   "metadata": {},
   "outputs": [],
   "source": [
    "# Train the agent\n",
    "model.learn(total_timesteps=int(1e5))\n",
    "# Save the agent\n",
    "model.save(\"dqn_lunar\")\n",
    "del model  # delete trained model to demonstrate loading\n",
    "model = DQN.load(\"dqn_lunar\")"
   ]
  },
  {
   "cell_type": "code",
   "execution_count": null,
   "metadata": {},
   "outputs": [],
   "source": [
    "model = DQN.load(\"dqn_lunar\")\n",
    "episodes = 10\n",
    "for episode in range(1, episodes+1):\n",
    "    obs = env.reset()\n",
    "    done = False\n",
    "    score = 0 \n",
    "    \n",
    "    while not done:\n",
    "        action, _states = model.predict(obs)\n",
    "        obs, reward, done, info = env.step(action)\n",
    "        env.render()\n",
    "        score+=reward\n",
    "    print('Episode:{} Score:{}'.format(episode, score))\n",
    "env.close()"
   ]
  },
  {
   "cell_type": "code",
   "execution_count": null,
   "metadata": {},
   "outputs": [],
   "source": [
    "# Evaluate the trained agent\n",
    "mean_reward, std_reward = evaluate_policy(model, eval_env, n_eval_episodes=10, deterministic=True)\n",
    "\n",
    "print(f\"mean_reward={mean_reward:.2f} +/- {std_reward}\")"
   ]
  },
  {
   "cell_type": "code",
   "execution_count": null,
   "metadata": {},
   "outputs": [],
   "source": []
  }
 ],
 "metadata": {
  "kernelspec": {
   "display_name": "Python 3 (ipykernel)",
   "language": "python",
   "name": "python3"
  },
  "language_info": {
   "codemirror_mode": {
    "name": "ipython",
    "version": 3
   },
   "file_extension": ".py",
   "mimetype": "text/x-python",
   "name": "python",
   "nbconvert_exporter": "python",
   "pygments_lexer": "ipython3",
   "version": "3.7.11"
  }
 },
 "nbformat": 4,
 "nbformat_minor": 4
}
